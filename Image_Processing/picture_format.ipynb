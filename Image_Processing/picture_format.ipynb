{
 "cells": [
  {
   "cell_type": "markdown",
   "metadata": {},
   "source": [
    "UB Bern Digitale Toolbox  \n",
    "2020  \n",
    "Autor: Michael Horn"
   ]
  },
  {
   "cell_type": "markdown",
   "metadata": {},
   "source": [
    "---"
   ]
  },
  {
   "cell_type": "markdown",
   "metadata": {},
   "source": [
    "# Bilder als tabellarische Datensätze"
   ]
  },
  {
   "cell_type": "markdown",
   "metadata": {},
   "source": [
    "Dieses Notebook soll Methoden aufzeigen, die es erlauben, Bilder als tabellarische Datensätze zu interpretieren."
   ]
  },
  {
   "cell_type": "markdown",
   "metadata": {},
   "source": [
    "### Inhalt:\n",
    "- \"mathematische\" Bilderzeugung und Visualisierung\n",
    "- Bilder speichern und laden\n",
    "- Umwandlung von Bildern in tabellarische Datensätze"
   ]
  },
  {
   "cell_type": "markdown",
   "metadata": {},
   "source": [
    "Die in diesem Notebook verwendeten Libraries:"
   ]
  },
  {
   "cell_type": "code",
   "execution_count": 1,
   "metadata": {},
   "outputs": [],
   "source": [
    "import os\n",
    "import csv\n",
    "import numpy as np\n",
    "import pandas as pd\n",
    "import matplotlib\n",
    "import matplotlib.pyplot as plt\n",
    "from skimage import io"
   ]
  },
  {
   "cell_type": "markdown",
   "metadata": {},
   "source": [
    "### \"Mathematische\" Bilderzeugung und Visualisierung"
   ]
  },
  {
   "cell_type": "markdown",
   "metadata": {},
   "source": [
    "In diesem Abschnitt zeigen wir eine Methode, mit der man Arrays erzeugt und verändert. Diese Arrays können als Bilder visualisiert und gespeichert werden."
   ]
  },
  {
   "cell_type": "markdown",
   "metadata": {},
   "source": [
    "Zunächst generieren wir ein Array **zeros_frame**, mit 5 Zeilen und 3 Spalten, der nur Nullwerte enthält:"
   ]
  },
  {
   "cell_type": "code",
   "execution_count": 2,
   "metadata": {},
   "outputs": [
    {
     "name": "stdout",
     "output_type": "stream",
     "text": [
      "[[0 0 0]\n",
      " [0 0 0]\n",
      " [0 0 0]\n",
      " [0 0 0]\n",
      " [0 0 0]]\n"
     ]
    }
   ],
   "source": [
    "zeros_frame = np.zeros([5,3], dtype = int)\n",
    "print(zeros_frame)"
   ]
  },
  {
   "cell_type": "markdown",
   "metadata": {},
   "source": [
    "Wir können dieses Array mit **matplotlib** als Bild visualisieren:"
   ]
  },
  {
   "cell_type": "code",
   "execution_count": 3,
   "metadata": {},
   "outputs": [
    {
     "data": {
      "image/png": "[encoded data removed]",
      "text/plain": [
       "<Figure size 432x288 with 1 Axes>"
      ]
     },
     "metadata": {
      "needs_background": "light"
     },
     "output_type": "display_data"
    }
   ],
   "source": [
    "plt.imshow(zeros_frame, cmap=\"gray\")\n",
    "plt.axis(\"off\")\n",
    "plt.show()"
   ]
  },
  {
   "cell_type": "markdown",
   "metadata": {},
   "source": [
    "Da **zeros_frame** nur Nullwerte enthält, sehen wir ein komplett schwarzes Bild. Matplotlib interpretiert die Nullen als Pixelwerte mit der Intensität 0. Solche Pixel werden schwarz dargestellt. Wir haben somit ein komplett schwarzes Bild aus 15 Pixeln erzeugt. "
   ]
  },
  {
   "cell_type": "markdown",
   "metadata": {},
   "source": [
    "Wir können einige Pixelwerte verändern und schauen, was passiert:"
   ]
  },
  {
   "cell_type": "code",
   "execution_count": 4,
   "metadata": {},
   "outputs": [
    {
     "name": "stdout",
     "output_type": "stream",
     "text": [
      "[[  0   0   0]\n",
      " [  0 255   0]\n",
      " [  0   0   0]\n",
      " [  0   0 255]\n",
      " [  0   0   0]]\n"
     ]
    }
   ],
   "source": [
    "mixed_frame = np.zeros([5,3], dtype = int)\n",
    "mixed_frame[1,1] = 255 \n",
    "mixed_frame[3,2] = 255 \n",
    "print(mixed_frame)"
   ]
  },
  {
   "cell_type": "code",
   "execution_count": 5,
   "metadata": {},
   "outputs": [
    {
     "data": {
      "image/png": "[encoded data removed]",
      "text/plain": [
       "<Figure size 432x288 with 1 Axes>"
      ]
     },
     "metadata": {
      "needs_background": "light"
     },
     "output_type": "display_data"
    }
   ],
   "source": [
    "plt.imshow(mixed_frame, cmap=\"gray\")\n",
    "plt.axis(\"off\")\n",
    "plt.show()"
   ]
  },
  {
   "cell_type": "markdown",
   "metadata": {},
   "source": [
    "An den Stellen im Array, an denen wir den Wert 0 durch den Wert 255 ersetzt haben, ist der entsprechende Pixel jetzt weiss.  \n",
    "Bei 8-bit Bildern hat man eine Intensitätsspanne zwischen 0 (schwarz) und 255 (weiss). Intensitätswerte dazwischen werden grau dargestellt: "
   ]
  },
  {
   "cell_type": "code",
   "execution_count": 6,
   "metadata": {},
   "outputs": [
    {
     "name": "stdout",
     "output_type": "stream",
     "text": [
      "[[  0   0   0]\n",
      " [  0 255 100]\n",
      " [  0   0   0]\n",
      " [  0   0 255]\n",
      " [  0 200   0]]\n"
     ]
    },
    {
     "data": {
      "image/png": "[encoded data removed]",
      "text/plain": [
       "<Figure size 432x288 with 1 Axes>"
      ]
     },
     "metadata": {
      "needs_background": "light"
     },
     "output_type": "display_data"
    }
   ],
   "source": [
    "gray_frame = np.zeros([5,3], dtype = int)\n",
    "gray_frame[1,1] = 255 \n",
    "gray_frame[1,2] = 100 \n",
    "gray_frame[3,2] = 255 \n",
    "gray_frame[4,1] = 200 \n",
    "print(gray_frame)\n",
    "plt.imshow(gray_frame, cmap=\"gray\")\n",
    "plt.axis(\"off\")\n",
    "plt.show()"
   ]
  },
  {
   "cell_type": "markdown",
   "metadata": {},
   "source": [
    "Jetzt generieren wir Arrays, welche die Zahlen 0-9 (wie sie in digitalen Displays erscheinen) darstellen. Wir beschränken uns auf Pixel mit Intensitäten 0 (schwarz) und 255 (weiss)."
   ]
  },
  {
   "cell_type": "code",
   "execution_count": 7,
   "metadata": {},
   "outputs": [],
   "source": [
    "# Um die Zahl 0 zu erzeugen:\n",
    "zero_frame = np.zeros([5,3], dtype = int)\n",
    "zero_frame[0,0] = 0\n",
    "zero_frame[0,1] = 0\n",
    "zero_frame[0,2] = 0\n",
    "zero_frame[1,0] = 0\n",
    "zero_frame[1,1] = 255\n",
    "zero_frame[1,2] = 0\n",
    "zero_frame[2,0] = 0\n",
    "zero_frame[2,1] = 255\n",
    "zero_frame[2,2] = 0\n",
    "zero_frame[3,0] = 0\n",
    "zero_frame[3,1] = 255\n",
    "zero_frame[3,2] = 0\n",
    "zero_frame[4,0] = 0\n",
    "zero_frame[4,1] = 0\n",
    "zero_frame[4,2] = 0"
   ]
  },
  {
   "cell_type": "code",
   "execution_count": 8,
   "metadata": {},
   "outputs": [
    {
     "name": "stdout",
     "output_type": "stream",
     "text": [
      "[[  0   0   0]\n",
      " [  0 255   0]\n",
      " [  0 255   0]\n",
      " [  0 255   0]\n",
      " [  0   0   0]]\n"
     ]
    }
   ],
   "source": [
    "# Wir schauen uns das Array an:\n",
    "print(zero_frame)"
   ]
  },
  {
   "cell_type": "code",
   "execution_count": 9,
   "metadata": {},
   "outputs": [
    {
     "data": {
      "image/png": "[encoded data removed]",
      "text/plain": [
       "<Figure size 432x288 with 1 Axes>"
      ]
     },
     "metadata": {
      "needs_background": "light"
     },
     "output_type": "display_data"
    }
   ],
   "source": [
    "# Wir schauen uns das visualisierte Array an:\n",
    "plt.imshow(zero_frame, cmap=\"gray\")\n",
    "plt.axis(\"off\")\n",
    "plt.show()"
   ]
  },
  {
   "cell_type": "markdown",
   "metadata": {},
   "source": [
    "Das gleiche nun für die anderen Ziffern:"
   ]
  },
  {
   "cell_type": "code",
   "execution_count": 10,
   "metadata": {},
   "outputs": [
    {
     "data": {
      "image/png": "[encoded data removed]",
      "text/plain": [
       "<Figure size 432x288 with 1 Axes>"
      ]
     },
     "metadata": {
      "needs_background": "light"
     },
     "output_type": "display_data"
    }
   ],
   "source": [
    "one_frame = np.zeros([5,3], dtype = int)\n",
    "\n",
    "one_frame[0,0] = 255\n",
    "one_frame[0,1] = 0\n",
    "one_frame[0,2] = 255\n",
    "one_frame[1,0] = 255\n",
    "one_frame[1,1] = 0\n",
    "one_frame[1,2] = 255\n",
    "one_frame[2,0] = 255\n",
    "one_frame[2,1] = 0\n",
    "one_frame[2,2] = 255\n",
    "one_frame[3,0] = 255\n",
    "one_frame[3,1] = 0\n",
    "one_frame[3,2] = 255\n",
    "one_frame[4,0] = 255\n",
    "one_frame[4,1] = 0\n",
    "one_frame[4,2] = 255\n",
    "\n",
    "plt.imshow(one_frame, cmap=\"gray\")\n",
    "plt.axis(\"off\")\n",
    "plt.show()"
   ]
  },
  {
   "cell_type": "code",
   "execution_count": 11,
   "metadata": {},
   "outputs": [
    {
     "data": {
      "image/png": "[encoded data removed]",
      "text/plain": [
       "<Figure size 432x288 with 1 Axes>"
      ]
     },
     "metadata": {
      "needs_background": "light"
     },
     "output_type": "display_data"
    }
   ],
   "source": [
    "two_frame = np.zeros([5,3], dtype = int)\n",
    "\n",
    "two_frame[0,0] = 0\n",
    "two_frame[0,1] = 0\n",
    "two_frame[0,2] = 0\n",
    "two_frame[1,0] = 255\n",
    "two_frame[1,1] = 255\n",
    "two_frame[1,2] = 0\n",
    "two_frame[2,0] = 0\n",
    "two_frame[2,1] = 0\n",
    "two_frame[2,2] = 0\n",
    "two_frame[3,0] = 0\n",
    "two_frame[3,1] = 255\n",
    "two_frame[3,2] = 255\n",
    "two_frame[4,0] = 0\n",
    "two_frame[4,1] = 0\n",
    "two_frame[4,2] = 0\n",
    "\n",
    "plt.imshow(two_frame, cmap=\"gray\")\n",
    "plt.axis(\"off\")\n",
    "plt.show()"
   ]
  },
  {
   "cell_type": "code",
   "execution_count": 12,
   "metadata": {},
   "outputs": [
    {
     "data": {
      "image/png": "[encoded data removed]",
      "text/plain": [
       "<Figure size 432x288 with 1 Axes>"
      ]
     },
     "metadata": {
      "needs_background": "light"
     },
     "output_type": "display_data"
    }
   ],
   "source": [
    "three_frame = np.zeros([5,3], dtype = int)\n",
    "\n",
    "three_frame[0,0] = 0\n",
    "three_frame[0,1] = 0\n",
    "three_frame[0,2] = 0\n",
    "three_frame[1,0] = 255\n",
    "three_frame[1,1] = 255\n",
    "three_frame[1,2] = 0\n",
    "three_frame[2,0] = 0\n",
    "three_frame[2,1] = 0\n",
    "three_frame[2,2] = 0\n",
    "three_frame[3,0] = 255\n",
    "three_frame[3,1] = 255\n",
    "three_frame[3,2] = 0\n",
    "three_frame[4,0] = 0\n",
    "three_frame[4,1] = 0\n",
    "three_frame[4,2] = 0\n",
    "\n",
    "plt.imshow(three_frame, cmap=\"gray\")\n",
    "plt.axis(\"off\")\n",
    "plt.show()"
   ]
  },
  {
   "cell_type": "code",
   "execution_count": 13,
   "metadata": {},
   "outputs": [
    {
     "data": {
      "image/png": "[encoded data removed]",
      "text/plain": [
       "<Figure size 432x288 with 1 Axes>"
      ]
     },
     "metadata": {
      "needs_background": "light"
     },
     "output_type": "display_data"
    }
   ],
   "source": [
    "four_frame = np.zeros([5,3], dtype = int)\n",
    "\n",
    "four_frame[0,0] = 0\n",
    "four_frame[0,1] = 255\n",
    "four_frame[0,2] = 255\n",
    "four_frame[1,0] = 0\n",
    "four_frame[1,1] = 255\n",
    "four_frame[1,2] = 0\n",
    "four_frame[2,0] = 0\n",
    "four_frame[2,1] = 0\n",
    "four_frame[2,2] = 0\n",
    "four_frame[3,0] = 255\n",
    "four_frame[3,1] = 255\n",
    "four_frame[3,2] = 0\n",
    "four_frame[4,0] = 255\n",
    "four_frame[4,1] = 255\n",
    "four_frame[4,2] = 0\n",
    "\n",
    "plt.imshow(four_frame, cmap=\"gray\")\n",
    "plt.axis(\"off\")\n",
    "plt.show()"
   ]
  },
  {
   "cell_type": "code",
   "execution_count": 14,
   "metadata": {},
   "outputs": [
    {
     "data": {
      "image/png": "[encoded data removed]",
      "text/plain": [
       "<Figure size 432x288 with 1 Axes>"
      ]
     },
     "metadata": {
      "needs_background": "light"
     },
     "output_type": "display_data"
    }
   ],
   "source": [
    "five_frame = np.zeros([5,3], dtype = int)\n",
    "\n",
    "five_frame[0,0] = 0\n",
    "five_frame[0,1] = 0\n",
    "five_frame[0,2] = 0\n",
    "five_frame[1,0] = 0\n",
    "five_frame[1,1] = 255\n",
    "five_frame[1,2] = 255\n",
    "five_frame[2,0] = 0\n",
    "five_frame[2,1] = 0\n",
    "five_frame[2,2] = 0\n",
    "five_frame[3,0] = 255\n",
    "five_frame[3,1] = 255\n",
    "five_frame[3,2] = 0\n",
    "five_frame[4,0] = 0\n",
    "five_frame[4,1] = 0\n",
    "five_frame[4,2] = 0\n",
    "\n",
    "plt.imshow(five_frame, cmap=\"gray\")\n",
    "plt.axis(\"off\")\n",
    "plt.show()"
   ]
  },
  {
   "cell_type": "code",
   "execution_count": 15,
   "metadata": {},
   "outputs": [
    {
     "data": {
      "image/png": "[encoded data removed]",
      "text/plain": [
       "<Figure size 432x288 with 1 Axes>"
      ]
     },
     "metadata": {
      "needs_background": "light"
     },
     "output_type": "display_data"
    }
   ],
   "source": [
    "six_frame = np.zeros([5,3], dtype = int)\n",
    "\n",
    "six_frame[0,0] = 0\n",
    "six_frame[0,1] = 0\n",
    "six_frame[0,2] = 0\n",
    "six_frame[1,0] = 0\n",
    "six_frame[1,1] = 255\n",
    "six_frame[1,2] = 255\n",
    "six_frame[2,0] = 0\n",
    "six_frame[2,1] = 0\n",
    "six_frame[2,2] = 0\n",
    "six_frame[3,0] = 0\n",
    "six_frame[3,1] = 255\n",
    "six_frame[3,2] = 0\n",
    "six_frame[4,0] = 0\n",
    "six_frame[4,1] = 0\n",
    "six_frame[4,2] = 0\n",
    "\n",
    "plt.imshow(six_frame, cmap=\"gray\")\n",
    "plt.axis(\"off\")\n",
    "plt.show()"
   ]
  },
  {
   "cell_type": "code",
   "execution_count": 16,
   "metadata": {},
   "outputs": [
    {
     "data": {
      "image/png": "[encoded data removed]",
      "text/plain": [
       "<Figure size 432x288 with 1 Axes>"
      ]
     },
     "metadata": {
      "needs_background": "light"
     },
     "output_type": "display_data"
    }
   ],
   "source": [
    "seven_frame = np.zeros([5,3], dtype = int)\n",
    "\n",
    "seven_frame[0,0] = 0\n",
    "seven_frame[0,1] = 0\n",
    "seven_frame[0,2] = 0\n",
    "seven_frame[1,0] = 255\n",
    "seven_frame[1,1] = 255\n",
    "seven_frame[1,2] = 0\n",
    "seven_frame[2,0] = 255\n",
    "seven_frame[2,1] = 255\n",
    "seven_frame[2,2] = 0\n",
    "seven_frame[3,0] = 255\n",
    "seven_frame[3,1] = 255\n",
    "seven_frame[3,2] = 0\n",
    "seven_frame[4,0] = 255\n",
    "seven_frame[4,1] = 255\n",
    "seven_frame[4,2] = 0\n",
    "\n",
    "plt.imshow(seven_frame, cmap=\"gray\")\n",
    "plt.axis(\"off\")\n",
    "plt.show()"
   ]
  },
  {
   "cell_type": "code",
   "execution_count": 17,
   "metadata": {},
   "outputs": [
    {
     "data": {
      "image/png": "[encoded data removed]",
      "text/plain": [
       "<Figure size 432x288 with 1 Axes>"
      ]
     },
     "metadata": {
      "needs_background": "light"
     },
     "output_type": "display_data"
    }
   ],
   "source": [
    "eight_frame = np.zeros([5,3], dtype = int)\n",
    "\n",
    "eight_frame[0,0] = 0\n",
    "eight_frame[0,1] = 0\n",
    "eight_frame[0,2] = 0\n",
    "eight_frame[1,0] = 0\n",
    "eight_frame[1,1] = 255\n",
    "eight_frame[1,2] = 0\n",
    "eight_frame[2,0] = 0\n",
    "eight_frame[2,1] = 0\n",
    "eight_frame[2,2] = 0\n",
    "eight_frame[3,0] = 0\n",
    "eight_frame[3,1] = 255\n",
    "eight_frame[3,2] = 0\n",
    "eight_frame[4,0] = 0\n",
    "eight_frame[4,1] = 0\n",
    "eight_frame[4,2] = 0\n",
    "\n",
    "plt.imshow(eight_frame, cmap=\"gray\")\n",
    "plt.axis(\"off\")\n",
    "plt.show()"
   ]
  },
  {
   "cell_type": "code",
   "execution_count": 18,
   "metadata": {},
   "outputs": [
    {
     "data": {
      "image/png": "[encoded data removed]",
      "text/plain": [
       "<Figure size 432x288 with 1 Axes>"
      ]
     },
     "metadata": {
      "needs_background": "light"
     },
     "output_type": "display_data"
    }
   ],
   "source": [
    "nine_frame = np.zeros([5,3], dtype = int)\n",
    "\n",
    "nine_frame[0,0] = 0\n",
    "nine_frame[0,1] = 0\n",
    "nine_frame[0,2] = 0\n",
    "nine_frame[1,0] = 0\n",
    "nine_frame[1,1] = 255\n",
    "nine_frame[1,2] = 0\n",
    "nine_frame[2,0] = 0\n",
    "nine_frame[2,1] = 0\n",
    "nine_frame[2,2] = 0\n",
    "nine_frame[3,0] = 255\n",
    "nine_frame[3,1] = 255\n",
    "nine_frame[3,2] = 0\n",
    "nine_frame[4,0] = 0\n",
    "nine_frame[4,1] = 0\n",
    "nine_frame[4,2] = 0\n",
    "\n",
    "plt.imshow(nine_frame, cmap=\"gray\")\n",
    "plt.axis(\"off\")\n",
    "plt.show()"
   ]
  },
  {
   "cell_type": "markdown",
   "metadata": {},
   "source": [
    "Nun wollen wir uns alle Zahlen mal zusammen ansehen:"
   ]
  },
  {
   "cell_type": "code",
   "execution_count": 19,
   "metadata": {},
   "outputs": [
    {
     "data": {
      "image/png": "[encoded data removed]",
      "text/plain": [
       "<Figure size 1224x720 with 10 Axes>"
      ]
     },
     "metadata": {
      "needs_background": "light"
     },
     "output_type": "display_data"
    }
   ],
   "source": [
    "plt.figure(figsize=(17,10))\n",
    "\n",
    "plt.subplot(1,10,1)\n",
    "plt.imshow(zero_frame, cmap = \"gray\") \n",
    "plt.axis(\"off\")\n",
    "\n",
    "plt.subplot(1,10,2)\n",
    "plt.imshow(one_frame, cmap = \"gray\")\n",
    "plt.axis(\"off\")\n",
    "\n",
    "plt.subplot(1,10,3)\n",
    "plt.imshow(two_frame, cmap = \"gray\") \n",
    "plt.axis(\"off\")\n",
    "\n",
    "plt.subplot(1,10,4)\n",
    "plt.imshow(three_frame, cmap = \"gray\")\n",
    "plt.axis(\"off\")\n",
    "\n",
    "plt.subplot(1,10,5)\n",
    "plt.imshow(four_frame, cmap = \"gray\") \n",
    "plt.axis(\"off\")\n",
    "\n",
    "plt.subplot(1,10,6)\n",
    "plt.imshow(five_frame, cmap = \"gray\") \n",
    "plt.axis(\"off\")\n",
    "\n",
    "plt.subplot(1,10,7)\n",
    "plt.imshow(six_frame, cmap = \"gray\")\n",
    "plt.axis(\"off\")\n",
    "\n",
    "plt.subplot(1,10,8)\n",
    "plt.imshow(seven_frame, cmap = \"gray\") \n",
    "plt.axis(\"off\")\n",
    "\n",
    "plt.subplot(1,10,9)\n",
    "plt.imshow(eight_frame, cmap = \"gray\")\n",
    "plt.axis(\"off\")\n",
    "\n",
    "plt.subplot(1,10,10)\n",
    "plt.imshow(nine_frame, cmap = \"gray\")\n",
    "plt.axis(\"off\")\n",
    "\n",
    "plt.show()"
   ]
  },
  {
   "cell_type": "markdown",
   "metadata": {},
   "source": [
    "### Speichern und Laden der Bilder"
   ]
  },
  {
   "cell_type": "markdown",
   "metadata": {},
   "source": [
    "Wir können die erzeugten Arrays als Bilder abspeichern, z.B. im .png Format.  \n",
    "Dazu definieren wir zuerst einen Pfad, damit Python weiss, wo die Bilder abgespeichert werden sollen.  \n",
    "Der Pfad kann folgendermassen aussehen:"
   ]
  },
  {
   "cell_type": "code",
   "execution_count": 20,
   "metadata": {},
   "outputs": [],
   "source": [
    "save_path = \"/Users/Michael/Anaconda3/Jupiter_Notebooks/Toolbox/Data_Formats/Picture_Formats_Data/\""
   ]
  },
  {
   "cell_type": "markdown",
   "metadata": {},
   "source": [
    "Mit einer Python-Library zur Bildbearbearbeitung können wir die erzeugten Arrays als Bilder speichern und wieder laden.\n",
    "Eine beliebte Library ist **skimage**. Diese haben wir oben importiert."
   ]
  },
  {
   "cell_type": "markdown",
   "metadata": {},
   "source": [
    "Mit der Methode **imsave** lassen sich die Arrays als Bilder abspeichern:"
   ]
  },
  {
   "cell_type": "code",
   "execution_count": 21,
   "metadata": {},
   "outputs": [
    {
     "name": "stderr",
     "output_type": "stream",
     "text": [
      "C:\\Users\\Michael\\Anaconda3\\lib\\site-packages\\skimage\\io\\_io.py:140: UserWarning: /Users/Michael/Anaconda3/Jupiter_Notebooks/Toolbox/Data_Formats/Picture_Formats_Data/000.png is a low contrast image\n",
      "  warn('%s is a low contrast image' % fname)\n",
      "C:\\Users\\Michael\\Anaconda3\\lib\\site-packages\\skimage\\io\\_io.py:140: UserWarning: /Users/Michael/Anaconda3/Jupiter_Notebooks/Toolbox/Data_Formats/Picture_Formats_Data/001.png is a low contrast image\n",
      "  warn('%s is a low contrast image' % fname)\n",
      "C:\\Users\\Michael\\Anaconda3\\lib\\site-packages\\skimage\\io\\_io.py:140: UserWarning: /Users/Michael/Anaconda3/Jupiter_Notebooks/Toolbox/Data_Formats/Picture_Formats_Data/002.png is a low contrast image\n",
      "  warn('%s is a low contrast image' % fname)\n",
      "C:\\Users\\Michael\\Anaconda3\\lib\\site-packages\\skimage\\io\\_io.py:140: UserWarning: /Users/Michael/Anaconda3/Jupiter_Notebooks/Toolbox/Data_Formats/Picture_Formats_Data/003.png is a low contrast image\n",
      "  warn('%s is a low contrast image' % fname)\n",
      "C:\\Users\\Michael\\Anaconda3\\lib\\site-packages\\skimage\\io\\_io.py:140: UserWarning: /Users/Michael/Anaconda3/Jupiter_Notebooks/Toolbox/Data_Formats/Picture_Formats_Data/004.png is a low contrast image\n",
      "  warn('%s is a low contrast image' % fname)\n",
      "C:\\Users\\Michael\\Anaconda3\\lib\\site-packages\\skimage\\io\\_io.py:140: UserWarning: /Users/Michael/Anaconda3/Jupiter_Notebooks/Toolbox/Data_Formats/Picture_Formats_Data/005.png is a low contrast image\n",
      "  warn('%s is a low contrast image' % fname)\n",
      "C:\\Users\\Michael\\Anaconda3\\lib\\site-packages\\skimage\\io\\_io.py:140: UserWarning: /Users/Michael/Anaconda3/Jupiter_Notebooks/Toolbox/Data_Formats/Picture_Formats_Data/006.png is a low contrast image\n",
      "  warn('%s is a low contrast image' % fname)\n",
      "C:\\Users\\Michael\\Anaconda3\\lib\\site-packages\\skimage\\io\\_io.py:140: UserWarning: /Users/Michael/Anaconda3/Jupiter_Notebooks/Toolbox/Data_Formats/Picture_Formats_Data/007.png is a low contrast image\n",
      "  warn('%s is a low contrast image' % fname)\n",
      "C:\\Users\\Michael\\Anaconda3\\lib\\site-packages\\skimage\\io\\_io.py:140: UserWarning: /Users/Michael/Anaconda3/Jupiter_Notebooks/Toolbox/Data_Formats/Picture_Formats_Data/008.png is a low contrast image\n",
      "  warn('%s is a low contrast image' % fname)\n",
      "C:\\Users\\Michael\\Anaconda3\\lib\\site-packages\\skimage\\io\\_io.py:140: UserWarning: /Users/Michael/Anaconda3/Jupiter_Notebooks/Toolbox/Data_Formats/Picture_Formats_Data/009.png is a low contrast image\n",
      "  warn('%s is a low contrast image' % fname)\n"
     ]
    }
   ],
   "source": [
    "io.imsave(save_path + \"000.png\", zero_frame, check_contrast=False)\n",
    "io.imsave(save_path + \"001.png\", one_frame, check_contrast=False)\n",
    "io.imsave(save_path + \"002.png\", two_frame, check_contrast=False)\n",
    "io.imsave(save_path + \"003.png\", three_frame, check_contrast=False)\n",
    "io.imsave(save_path + \"004.png\", four_frame, check_contrast=False)\n",
    "io.imsave(save_path + \"005.png\", five_frame, check_contrast=False)\n",
    "io.imsave(save_path + \"006.png\", six_frame, check_contrast=False)\n",
    "io.imsave(save_path + \"007.png\", seven_frame, check_contrast=False)\n",
    "io.imsave(save_path + \"008.png\", eight_frame, check_contrast=False)\n",
    "io.imsave(save_path + \"009.png\", nine_frame, check_contrast=False)"
   ]
  },
  {
   "cell_type": "markdown",
   "metadata": {},
   "source": [
    "Man kann im entsprechenden Ordner überprüfen:\n",
    "- die Bilder sind 3x5 Pixel gross\n",
    "- die Bit-Tiefe ist 8"
   ]
  },
  {
   "cell_type": "markdown",
   "metadata": {},
   "source": [
    "Die Bilder lassen sich im Notebook laden und visualisieren:"
   ]
  },
  {
   "cell_type": "code",
   "execution_count": 22,
   "metadata": {},
   "outputs": [],
   "source": [
    "# Laden:\n",
    "image_zero = io.imread(save_path + \"000.png\")"
   ]
  },
  {
   "cell_type": "code",
   "execution_count": 23,
   "metadata": {},
   "outputs": [
    {
     "data": {
      "image/png": "[encoded data removed]",
      "text/plain": [
       "<Figure size 432x288 with 1 Axes>"
      ]
     },
     "metadata": {
      "needs_background": "light"
     },
     "output_type": "display_data"
    }
   ],
   "source": [
    "# Visualisieren:\n",
    "plt.imshow(image_zero, cmap=\"gray\")\n",
    "plt.axis(\"off\")\n",
    "plt.show()"
   ]
  },
  {
   "cell_type": "markdown",
   "metadata": {},
   "source": [
    "Wie man sieht, ist die ursprüngliche Form der Arrays erhalten geblieben:"
   ]
  },
  {
   "cell_type": "code",
   "execution_count": 24,
   "metadata": {},
   "outputs": [
    {
     "name": "stdout",
     "output_type": "stream",
     "text": [
      "Initial Array: \n",
      " \n",
      "[[  0   0   0]\n",
      " [  0 255   0]\n",
      " [  0 255   0]\n",
      " [  0 255   0]\n",
      " [  0   0   0]]\n",
      " \n",
      "---------------\n",
      " \n",
      "Loaded Image: \n",
      " \n",
      "[[  0   0   0]\n",
      " [  0 255   0]\n",
      " [  0 255   0]\n",
      " [  0 255   0]\n",
      " [  0   0   0]]\n"
     ]
    }
   ],
   "source": [
    "print(\"Initial Array: \")\n",
    "print(\" \")\n",
    "print(zero_frame) # das ist das ursprüngliche Numpy Array\n",
    "print(\" \")\n",
    "print(\"---------------\")\n",
    "print(\" \")\n",
    "print(\"Loaded Image: \")\n",
    "print(\" \")\n",
    "print(image_zero) # das ist das als .png-Bild abgespeicherte und wieder geladene Numpy-Array"
   ]
  },
  {
   "cell_type": "markdown",
   "metadata": {},
   "source": [
    "### Umwandlung von Bildern in tabellarische Datensätze"
   ]
  },
  {
   "cell_type": "markdown",
   "metadata": {},
   "source": [
    "Wie wir gesehen haben, sind Bilder letztlich nichts anderes als Arrays von Zahlen, welche die Intensitätswerte der Pixel angeben.\n",
    "Reihen wir die einzelnen Zeilen eines Arrays in eine einzige Zeile auf, bekommen wir ein Datenformat, wie wir es von Tabellen her kennen: eine Zeile (für jedes Bild) und in diesem Fall 15 Spalten (für jeden Pixelwert eines Bildes eine Spalte)."
   ]
  },
  {
   "cell_type": "markdown",
   "metadata": {},
   "source": [
    "Ein solches Datenformat lässt sich bequem in ein .csv-File speichern.  \n",
    "Um ein solches File zu generieren, erzeugen wir aus dem Array von Pixeln eine Liste, in welcher die Pixelwerte nacheinander aufgereiht und mit Kommanta getrennt sind. Der erste Wert in der Liste entspricht dem Pixel oben links im Array, der letzte Wert in der Liste dem Pixel unten rechts im Array.  \n",
    "Das Ziel ist eine Liste, die für die Pixelwerte eines Bildes beispielsweise folgendermassen aussieht:   \n",
    "[0, 0, 0, 0, 255, 0, 0, 255, 0, 0, 255, 0, 0, 0, 0]"
   ]
  },
  {
   "cell_type": "markdown",
   "metadata": {},
   "source": [
    "Um das zu erreichen, schreiben wir eine kleine Funktion, die die Pixelwerte in eine solche Form bringt:"
   ]
  },
  {
   "cell_type": "code",
   "execution_count": 25,
   "metadata": {},
   "outputs": [],
   "source": [
    "# Die Funktion merge_lists nimmt als Input eine Liste von Listen (als so etwas kann man ein Array verstehen) \n",
    "# und gibt als Output eine fusionierte Liste:\n",
    "\n",
    "def merge_lists(liste):\n",
    "    merged_list = []\n",
    "    for item in liste:\n",
    "        merged_list.extend(item)\n",
    "    return merged_list"
   ]
  },
  {
   "cell_type": "markdown",
   "metadata": {},
   "source": [
    "Wir testen die Funktion an einem Beispiel, dem oben geladenen Bild **image_zero**:"
   ]
  },
  {
   "cell_type": "code",
   "execution_count": 26,
   "metadata": {},
   "outputs": [
    {
     "data": {
      "text/plain": [
       "[0, 0, 0, 0, 255, 0, 0, 255, 0, 0, 255, 0, 0, 0, 0]"
      ]
     },
     "execution_count": 26,
     "metadata": {},
     "output_type": "execute_result"
    }
   ],
   "source": [
    "merge_lists(image_zero)"
   ]
  },
  {
   "cell_type": "markdown",
   "metadata": {},
   "source": [
    "Das hat geklappt, die Liste hat das Format, welches wir wollen."
   ]
  },
  {
   "cell_type": "markdown",
   "metadata": {},
   "source": [
    "Nun können wir alle Bilder, die wir vorhin gespeichert haben, in dieses Format bringen:"
   ]
  },
  {
   "cell_type": "code",
   "execution_count": 27,
   "metadata": {},
   "outputs": [],
   "source": [
    "data_list = []\n",
    "\n",
    "for item in os.listdir(save_path):\n",
    "    if item.endswith(\"png\"):\n",
    "        image_arr = io.imread(save_path + item)\n",
    "        image_l = merge_lists(image_arr)\n",
    "        data_list.append(image_l)\n",
    "    else:\n",
    "        pass"
   ]
  },
  {
   "cell_type": "markdown",
   "metadata": {},
   "source": [
    "In der Liste **data_list** haben wir nun die Pixelwerte aller Bilder aufgelistet. Die erste Zeile entspricht dabei den Werten des ersten Bildes (also der Null), die zweite Zeile den Werten des zweiten Bildes (der Eins) u.s.w."
   ]
  },
  {
   "cell_type": "code",
   "execution_count": 28,
   "metadata": {},
   "outputs": [
    {
     "data": {
      "text/plain": [
       "[[0, 0, 0, 0, 255, 0, 0, 255, 0, 0, 255, 0, 0, 0, 0],\n",
       " [255, 0, 255, 255, 0, 255, 255, 0, 255, 255, 0, 255, 255, 0, 255],\n",
       " [0, 0, 0, 255, 255, 0, 0, 0, 0, 0, 255, 255, 0, 0, 0],\n",
       " [0, 0, 0, 255, 255, 0, 0, 0, 0, 255, 255, 0, 0, 0, 0],\n",
       " [0, 255, 255, 0, 255, 0, 0, 0, 0, 255, 255, 0, 255, 255, 0],\n",
       " [0, 0, 0, 0, 255, 255, 0, 0, 0, 255, 255, 0, 0, 0, 0],\n",
       " [0, 0, 0, 0, 255, 255, 0, 0, 0, 0, 255, 0, 0, 0, 0],\n",
       " [0, 0, 0, 255, 255, 0, 255, 255, 0, 255, 255, 0, 255, 255, 0],\n",
       " [0, 0, 0, 0, 255, 0, 0, 0, 0, 0, 255, 0, 0, 0, 0],\n",
       " [0, 0, 0, 0, 255, 0, 0, 0, 0, 255, 255, 0, 0, 0, 0]]"
      ]
     },
     "execution_count": 28,
     "metadata": {},
     "output_type": "execute_result"
    }
   ],
   "source": [
    "data_list"
   ]
  },
  {
   "cell_type": "markdown",
   "metadata": {},
   "source": [
    "Nun können wir die Werte aus dieser Liste in ein .csv-File schreiben, das wir lokal als **digits_0-9.csv** File abspeichern."
   ]
  },
  {
   "cell_type": "code",
   "execution_count": 29,
   "metadata": {},
   "outputs": [],
   "source": [
    "with open(save_path + \"digits_0-9.csv\", \"w\", newline=\"\") as f:\n",
    "    writer = csv.writer(f)\n",
    "    writer.writerows(data_list)"
   ]
  },
  {
   "cell_type": "markdown",
   "metadata": {},
   "source": [
    "Die für Datenverarbeitungsaufgaben mit Python beliebte Library **pandas** (die wir oben importiert haben), kann uns das soeben abgespeicherte File öffnen und uns den Inhalt zeigen:"
   ]
  },
  {
   "cell_type": "code",
   "execution_count": 30,
   "metadata": {},
   "outputs": [
    {
     "data": {
      "text/html": [
       "<div>\n",
       "<style scoped>\n",
       "    .dataframe tbody tr th:only-of-type {\n",
       "        vertical-align: middle;\n",
       "    }\n",
       "\n",
       "    .dataframe tbody tr th {\n",
       "        vertical-align: top;\n",
       "    }\n",
       "\n",
       "    .dataframe thead th {\n",
       "        text-align: right;\n",
       "    }\n",
       "</style>\n",
       "<table border=\"1\" class=\"dataframe\">\n",
       "  <thead>\n",
       "    <tr style=\"text-align: right;\">\n",
       "      <th></th>\n",
       "      <th>px1</th>\n",
       "      <th>px2</th>\n",
       "      <th>px3</th>\n",
       "      <th>px4</th>\n",
       "      <th>px5</th>\n",
       "      <th>px6</th>\n",
       "      <th>px7</th>\n",
       "      <th>px8</th>\n",
       "      <th>px9</th>\n",
       "      <th>px10</th>\n",
       "      <th>px11</th>\n",
       "      <th>px12</th>\n",
       "      <th>px13</th>\n",
       "      <th>px14</th>\n",
       "      <th>px15</th>\n",
       "    </tr>\n",
       "  </thead>\n",
       "  <tbody>\n",
       "    <tr>\n",
       "      <th>0</th>\n",
       "      <td>0</td>\n",
       "      <td>0</td>\n",
       "      <td>0</td>\n",
       "      <td>0</td>\n",
       "      <td>255</td>\n",
       "      <td>0</td>\n",
       "      <td>0</td>\n",
       "      <td>255</td>\n",
       "      <td>0</td>\n",
       "      <td>0</td>\n",
       "      <td>255</td>\n",
       "      <td>0</td>\n",
       "      <td>0</td>\n",
       "      <td>0</td>\n",
       "      <td>0</td>\n",
       "    </tr>\n",
       "    <tr>\n",
       "      <th>1</th>\n",
       "      <td>255</td>\n",
       "      <td>0</td>\n",
       "      <td>255</td>\n",
       "      <td>255</td>\n",
       "      <td>0</td>\n",
       "      <td>255</td>\n",
       "      <td>255</td>\n",
       "      <td>0</td>\n",
       "      <td>255</td>\n",
       "      <td>255</td>\n",
       "      <td>0</td>\n",
       "      <td>255</td>\n",
       "      <td>255</td>\n",
       "      <td>0</td>\n",
       "      <td>255</td>\n",
       "    </tr>\n",
       "    <tr>\n",
       "      <th>2</th>\n",
       "      <td>0</td>\n",
       "      <td>0</td>\n",
       "      <td>0</td>\n",
       "      <td>255</td>\n",
       "      <td>255</td>\n",
       "      <td>0</td>\n",
       "      <td>0</td>\n",
       "      <td>0</td>\n",
       "      <td>0</td>\n",
       "      <td>0</td>\n",
       "      <td>255</td>\n",
       "      <td>255</td>\n",
       "      <td>0</td>\n",
       "      <td>0</td>\n",
       "      <td>0</td>\n",
       "    </tr>\n",
       "    <tr>\n",
       "      <th>3</th>\n",
       "      <td>0</td>\n",
       "      <td>0</td>\n",
       "      <td>0</td>\n",
       "      <td>255</td>\n",
       "      <td>255</td>\n",
       "      <td>0</td>\n",
       "      <td>0</td>\n",
       "      <td>0</td>\n",
       "      <td>0</td>\n",
       "      <td>255</td>\n",
       "      <td>255</td>\n",
       "      <td>0</td>\n",
       "      <td>0</td>\n",
       "      <td>0</td>\n",
       "      <td>0</td>\n",
       "    </tr>\n",
       "    <tr>\n",
       "      <th>4</th>\n",
       "      <td>0</td>\n",
       "      <td>255</td>\n",
       "      <td>255</td>\n",
       "      <td>0</td>\n",
       "      <td>255</td>\n",
       "      <td>0</td>\n",
       "      <td>0</td>\n",
       "      <td>0</td>\n",
       "      <td>0</td>\n",
       "      <td>255</td>\n",
       "      <td>255</td>\n",
       "      <td>0</td>\n",
       "      <td>255</td>\n",
       "      <td>255</td>\n",
       "      <td>0</td>\n",
       "    </tr>\n",
       "    <tr>\n",
       "      <th>5</th>\n",
       "      <td>0</td>\n",
       "      <td>0</td>\n",
       "      <td>0</td>\n",
       "      <td>0</td>\n",
       "      <td>255</td>\n",
       "      <td>255</td>\n",
       "      <td>0</td>\n",
       "      <td>0</td>\n",
       "      <td>0</td>\n",
       "      <td>255</td>\n",
       "      <td>255</td>\n",
       "      <td>0</td>\n",
       "      <td>0</td>\n",
       "      <td>0</td>\n",
       "      <td>0</td>\n",
       "    </tr>\n",
       "    <tr>\n",
       "      <th>6</th>\n",
       "      <td>0</td>\n",
       "      <td>0</td>\n",
       "      <td>0</td>\n",
       "      <td>0</td>\n",
       "      <td>255</td>\n",
       "      <td>255</td>\n",
       "      <td>0</td>\n",
       "      <td>0</td>\n",
       "      <td>0</td>\n",
       "      <td>0</td>\n",
       "      <td>255</td>\n",
       "      <td>0</td>\n",
       "      <td>0</td>\n",
       "      <td>0</td>\n",
       "      <td>0</td>\n",
       "    </tr>\n",
       "    <tr>\n",
       "      <th>7</th>\n",
       "      <td>0</td>\n",
       "      <td>0</td>\n",
       "      <td>0</td>\n",
       "      <td>255</td>\n",
       "      <td>255</td>\n",
       "      <td>0</td>\n",
       "      <td>255</td>\n",
       "      <td>255</td>\n",
       "      <td>0</td>\n",
       "      <td>255</td>\n",
       "      <td>255</td>\n",
       "      <td>0</td>\n",
       "      <td>255</td>\n",
       "      <td>255</td>\n",
       "      <td>0</td>\n",
       "    </tr>\n",
       "    <tr>\n",
       "      <th>8</th>\n",
       "      <td>0</td>\n",
       "      <td>0</td>\n",
       "      <td>0</td>\n",
       "      <td>0</td>\n",
       "      <td>255</td>\n",
       "      <td>0</td>\n",
       "      <td>0</td>\n",
       "      <td>0</td>\n",
       "      <td>0</td>\n",
       "      <td>0</td>\n",
       "      <td>255</td>\n",
       "      <td>0</td>\n",
       "      <td>0</td>\n",
       "      <td>0</td>\n",
       "      <td>0</td>\n",
       "    </tr>\n",
       "    <tr>\n",
       "      <th>9</th>\n",
       "      <td>0</td>\n",
       "      <td>0</td>\n",
       "      <td>0</td>\n",
       "      <td>0</td>\n",
       "      <td>255</td>\n",
       "      <td>0</td>\n",
       "      <td>0</td>\n",
       "      <td>0</td>\n",
       "      <td>0</td>\n",
       "      <td>255</td>\n",
       "      <td>255</td>\n",
       "      <td>0</td>\n",
       "      <td>0</td>\n",
       "      <td>0</td>\n",
       "      <td>0</td>\n",
       "    </tr>\n",
       "  </tbody>\n",
       "</table>\n",
       "</div>"
      ],
      "text/plain": [
       "   px1  px2  px3  px4  px5  px6  px7  px8  px9  px10  px11  px12  px13  px14  \\\n",
       "0    0    0    0    0  255    0    0  255    0     0   255     0     0     0   \n",
       "1  255    0  255  255    0  255  255    0  255   255     0   255   255     0   \n",
       "2    0    0    0  255  255    0    0    0    0     0   255   255     0     0   \n",
       "3    0    0    0  255  255    0    0    0    0   255   255     0     0     0   \n",
       "4    0  255  255    0  255    0    0    0    0   255   255     0   255   255   \n",
       "5    0    0    0    0  255  255    0    0    0   255   255     0     0     0   \n",
       "6    0    0    0    0  255  255    0    0    0     0   255     0     0     0   \n",
       "7    0    0    0  255  255    0  255  255    0   255   255     0   255   255   \n",
       "8    0    0    0    0  255    0    0    0    0     0   255     0     0     0   \n",
       "9    0    0    0    0  255    0    0    0    0   255   255     0     0     0   \n",
       "\n",
       "   px15  \n",
       "0     0  \n",
       "1   255  \n",
       "2     0  \n",
       "3     0  \n",
       "4     0  \n",
       "5     0  \n",
       "6     0  \n",
       "7     0  \n",
       "8     0  \n",
       "9     0  "
      ]
     },
     "execution_count": 30,
     "metadata": {},
     "output_type": "execute_result"
    }
   ],
   "source": [
    "pd.read_csv(save_path + \"digits_0-9.csv\", header = None, \n",
    "            names = [\"px1\", \"px2\", \"px3\", \"px4\", \"px5\", \"px6\", \"px7\", \n",
    "                     \"px8\", \"px9\", \"px10\", \"px11\", \"px12\", \"px13\", \"px14\", \"px15\"])"
   ]
  },
  {
   "cell_type": "markdown",
   "metadata": {},
   "source": [
    "Wir sehen also, wie wir den Informationsgehalt von Bildern (d.h. die Pixelwerte und deren Position im Bild) in eine Tabellenform bringen können. Solche tabellarischen Formate können für die weitere Datenanalyse sehr nützlich sein, beispielsweise wenn man Datensätze für maschinelles Lernen verwenden möchte."
   ]
  },
  {
   "cell_type": "markdown",
   "metadata": {},
   "source": [
    "### Visualisierung tabellarischer Datansätze als Bilder"
   ]
  },
  {
   "cell_type": "markdown",
   "metadata": {},
   "source": [
    "Schliesslich zeigen wir noch, dass die im .csv-Format gespeicherten Pixelwerte sehr einfach in Arrays zurückverwandelt und als Bilder visualisiert werden können:"
   ]
  },
  {
   "cell_type": "code",
   "execution_count": 31,
   "metadata": {},
   "outputs": [],
   "source": [
    "data_file = open(save_path + \"digits_0-9.csv\", \"r\")\n",
    "data_list = data_file.readlines()\n",
    "data_file.close()"
   ]
  },
  {
   "cell_type": "markdown",
   "metadata": {},
   "source": [
    "Für den ersten Datenpunkt im .csv-File:"
   ]
  },
  {
   "cell_type": "code",
   "execution_count": 32,
   "metadata": {},
   "outputs": [
    {
     "data": {
      "image/png": "[encoded data removed]",
      "text/plain": [
       "<Figure size 432x288 with 1 Axes>"
      ]
     },
     "metadata": {
      "needs_background": "light"
     },
     "output_type": "display_data"
    }
   ],
   "source": [
    "data_element_0 = data_list[0].split(\",\")\n",
    "image_array_0 = np.asfarray(data_element_0).reshape((5,3))\n",
    "plt.imshow(image_array_0, cmap=\"gray\")\n",
    "plt.axis(\"off\")\n",
    "plt.show()"
   ]
  },
  {
   "cell_type": "markdown",
   "metadata": {},
   "source": [
    "Für alle Datenpunkte im .csv-File:"
   ]
  },
  {
   "cell_type": "code",
   "execution_count": 33,
   "metadata": {},
   "outputs": [
    {
     "data": {
      "image/png": "[encoded data removed]",
      "text/plain": [
       "<Figure size 1224x720 with 10 Axes>"
      ]
     },
     "metadata": {
      "needs_background": "light"
     },
     "output_type": "display_data"
    }
   ],
   "source": [
    "plt.figure(figsize=(17,10))\n",
    "\n",
    "for index in range (0,10):\n",
    "    data_element = data_list[index].split(\",\")\n",
    "    image_array = np.asfarray(data_element).reshape((5,3))\n",
    "    \n",
    "    plt.subplot(1,10,index + 1)\n",
    "    plt.imshow(image_array, cmap = \"gray\") \n",
    "    plt.axis(\"off\")\n",
    "\n",
    "plt.show()"
   ]
  },
  {
   "cell_type": "code",
   "execution_count": null,
   "metadata": {},
   "outputs": [],
   "source": []
  }
 ],
 "metadata": {
  "kernelspec": {
   "display_name": "Python 3",
   "language": "python",
   "name": "python3"
  },
  "language_info": {
   "codemirror_mode": {
    "name": "ipython",
    "version": 3
   },
   "file_extension": ".py",
   "mimetype": "text/x-python",
   "name": "python",
   "nbconvert_exporter": "python",
   "pygments_lexer": "ipython3",
   "version": "3.7.3"
  }
 },
 "nbformat": 4,
 "nbformat_minor": 2
}
